{
 "cells": [
  {
   "cell_type": "markdown",
   "metadata": {},
   "source": [
    "### Simple Color-Magnitude Diagram for Globular Cluster [M2](https://en.wikipedia.org/wiki/Messier_2)"
   ]
  },
  {
   "cell_type": "code",
   "execution_count": null,
   "metadata": {},
   "outputs": [],
   "source": [
    "%matplotlib inline\n",
    "import matplotlib\n",
    "import matplotlib.pyplot as plt\n",
    "import pandas as pd\n",
    "import seaborn as sbn\n",
    "matplotlib.style.use('des_dr1')"
   ]
  },
  {
   "cell_type": "code",
   "execution_count": null,
   "metadata": {},
   "outputs": [],
   "source": [
    "! cat $HOME/.config/matplotlib/stylelib/des_dr1.mplstyle"
   ]
  },
  {
   "cell_type": "code",
   "execution_count": null,
   "metadata": {},
   "outputs": [],
   "source": [
    "import easyaccess as ea"
   ]
  },
  {
   "cell_type": "code",
   "execution_count": null,
   "metadata": {},
   "outputs": [],
   "source": [
    "con = ea.connect()"
   ]
  },
  {
   "cell_type": "code",
   "execution_count": null,
   "metadata": {},
   "outputs": [],
   "source": [
    "query = \"\"\"\n",
    "SELECT \n",
    " COADD_OBJECT_ID,RA,DEC, \n",
    " MAG_AUTO_G G,\n",
    " MAG_AUTO_R R,\n",
    " WAVG_MAG_PSF_G G_PSF,\n",
    " WAVG_MAG_PSF_R R_PSF\n",
    "FROM DR1_MAIN \n",
    "WHERE\n",
    "  RA between 323.36-0.12 and 323.36+0.12 and \n",
    "  DEC between -0.82-0.12 and -0.82+0.12 and\n",
    "  WAVG_SPREAD_MODEL_I + 3.0*WAVG_SPREADERR_MODEL_I < 0.005 and \n",
    "  WAVG_SPREAD_MODEL_I > -1 and \n",
    "  IMAFLAGS_ISO_G = 0 and\n",
    "  IMAFLAGS_ISO_R = 0 and\n",
    "  FLAGS_G < 4 and\n",
    "  FLAGS_R < 4\n",
    "\"\"\""
   ]
  },
  {
   "cell_type": "code",
   "execution_count": null,
   "metadata": {},
   "outputs": [],
   "source": [
    "df = con.query_to_pandas(query)"
   ]
  },
  {
   "cell_type": "code",
   "execution_count": null,
   "metadata": {},
   "outputs": [],
   "source": [
    "plt.figure(figsize=(14,14))\n",
    "plt.plot(df.G_PSF-df.R_PSF,df.G_PSF,'k.')\n",
    "plt.xlim(-0.6,1.8)\n",
    "plt.ylim(24,16)\n",
    "plt.xlabel('G')\n",
    "plt.ylabel('G-R')"
   ]
  }
 ],
 "metadata": {
  "kernelspec": {
   "display_name": "Python 3",
   "language": "python",
   "name": "python3"
  },
  "language_info": {
   "codemirror_mode": {
    "name": "ipython",
    "version": 3
   },
   "file_extension": ".py",
   "mimetype": "text/x-python",
   "name": "python",
   "nbconvert_exporter": "python",
   "pygments_lexer": "ipython3",
   "version": "3.6.5"
  }
 },
 "nbformat": 4,
 "nbformat_minor": 2
}
