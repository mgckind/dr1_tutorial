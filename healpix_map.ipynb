{
 "cells": [
  {
   "cell_type": "markdown",
   "metadata": {},
   "source": [
    "### How to create a simple Healpix stellar map"
   ]
  },
  {
   "cell_type": "code",
   "execution_count": null,
   "metadata": {},
   "outputs": [],
   "source": [
    "# Basic notebook imports\n",
    "%matplotlib inline\n",
    "import os\n",
    "import matplotlib\n",
    "import pylab as plt\n",
    "import numpy as np\n",
    "import healpy as hp\n",
    "import easyaccess as ea\n",
    "import pandas as pd"
   ]
  },
  {
   "cell_type": "markdown",
   "metadata": {},
   "source": [
    "## We use [skymap](https://github.com/kadrlica/skymap), a matplotlib based utility to draw celestials maps"
   ]
  },
  {
   "cell_type": "code",
   "execution_count": null,
   "metadata": {},
   "outputs": [],
   "source": [
    "import skymap\n",
    "from skymap.constants import FIGSIZE,SCALE,DPI,DECAM\n",
    "from skymap.utils import get_datadir\n",
    "from skymap import SurveySkymap,SurveyMcBryde,SurveyOrtho\n",
    "from skymap import DESSkymap\n",
    "#matplotlib.style.use('des_dr1')"
   ]
  },
  {
   "cell_type": "markdown",
   "metadata": {},
   "source": [
    "### Read from a previuosly run job"
   ]
  },
  {
   "cell_type": "code",
   "execution_count": null,
   "metadata": {},
   "outputs": [],
   "source": [
    "# Query used to generate the data (~10 min)\n",
    "query = \"\"\"\n",
    "--\n",
    "-- Example Query --\n",
    "-- This query creates a Helpix map of number of starts\n",
    "-- and their mean magnitude on a resolution of NSIDE = 1024\n",
    "-- using NEST Schema\n",
    "SELECT\n",
    "count(main.MAG_AUTO_I) COUNT,\n",
    "main.HPIX_1024\n",
    "FROM DR1_MAIN main\n",
    "WHERE\n",
    "  main.WAVG_SPREAD_MODEL_I + 3.0*main.WAVG_SPREADERR_MODEL_I < 0.005 and\n",
    "  main.WAVG_SPREAD_MODEL_I > -1 and\n",
    "  main.IMAFLAGS_ISO_I = 0 and\n",
    "  main.MAG_AUTO_I < 21\n",
    "GROUP BY main.HPIX_1024\n",
    "\"\"\""
   ]
  },
  {
   "cell_type": "code",
   "execution_count": null,
   "metadata": {},
   "outputs": [],
   "source": [
    "df = pd.read_csv('../../jobs/507683dc-53d6-4033-a5b5-2b5a3642c9c4/all_stars.csv')"
   ]
  },
  {
   "cell_type": "code",
   "execution_count": null,
   "metadata": {},
   "outputs": [],
   "source": [
    "df.head()"
   ]
  },
  {
   "cell_type": "markdown",
   "metadata": {},
   "source": [
    "### Let's read the polygon that defines the DES footprint"
   ]
  },
  {
   "cell_type": "code",
   "execution_count": null,
   "metadata": {},
   "outputs": [],
   "source": [
    "raf,decf = np.loadtxt('round17-poly.txt',unpack=True)"
   ]
  },
  {
   "cell_type": "code",
   "execution_count": null,
   "metadata": {},
   "outputs": [],
   "source": [
    "# Convert from NESTED to RING format for the plots\n",
    "px2 = hp.nest2ring(1024,df.HPIX_1024)"
   ]
  },
  {
   "cell_type": "code",
   "execution_count": null,
   "metadata": {},
   "outputs": [],
   "source": [
    "NSIDE = 1024\n",
    "plt.figure(figsize=(16,12))\n",
    "matplotlib.rc('xtick', labelsize=32) \n",
    "matplotlib.rc('ytick', labelsize=32) \n",
    "matplotlib.rc('axes' , labelsize=32)\n",
    "smap = DESSkymap()\n",
    "smap.draw_des(color='red',lw=3)\n",
    "smap.draw_hpxmap(df['COUNT'],px2,nside=1024,xsize=1000)\n",
    "smap.draw_inset_colorbar()\n",
    "smap.draw_polygon_radec(raf,decf,color='r',lw=3.5)\n",
    "ax = plt.gca()\n",
    "ax.axis['right'].major_ticklabels.set_visible(False)"
   ]
  },
  {
   "cell_type": "code",
   "execution_count": null,
   "metadata": {},
   "outputs": [],
   "source": []
  },
  {
   "cell_type": "code",
   "execution_count": null,
   "metadata": {},
   "outputs": [],
   "source": []
  }
 ],
 "metadata": {
  "kernelspec": {
   "display_name": "Python 3",
   "language": "python",
   "name": "python3"
  },
  "language_info": {
   "codemirror_mode": {
    "name": "ipython",
    "version": 3
   },
   "file_extension": ".py",
   "mimetype": "text/x-python",
   "name": "python",
   "nbconvert_exporter": "python",
   "pygments_lexer": "ipython3",
   "version": "3.6.5"
  }
 },
 "nbformat": 4,
 "nbformat_minor": 2
}
